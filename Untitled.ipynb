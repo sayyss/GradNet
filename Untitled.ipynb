{
 "cells": [
  {
   "cell_type": "code",
   "execution_count": null,
   "id": "d14cab7a-42bc-43a9-b6fe-68c90a169c54",
   "metadata": {},
   "outputs": [],
   "source": [
    "class Value:\n",
    "    self __init__(self, Value, a"
   ]
  },
  {
   "cell_type": "code",
   "execution_count": null,
   "id": "08abf616-a0a5-4375-814b-dbb03e9b708c",
   "metadata": {},
   "outputs": [],
   "source": [
    "class Tensor:\n",
    "    self __init__(self, Values"
   ]
  }
 ],
 "metadata": {
  "kernelspec": {
   "display_name": "Python 3 (ipykernel)",
   "language": "python",
   "name": "python3"
  },
  "language_info": {
   "codemirror_mode": {
    "name": "ipython",
    "version": 3
   },
   "file_extension": ".py",
   "mimetype": "text/x-python",
   "name": "python",
   "nbconvert_exporter": "python",
   "pygments_lexer": "ipython3",
   "version": "3.12.4"
  }
 },
 "nbformat": 4,
 "nbformat_minor": 5
}
