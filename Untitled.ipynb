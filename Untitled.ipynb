{
 "cells": [
  {
   "cell_type": "code",
   "execution_count": 27,
   "id": "d14cab7a-42bc-43a9-b6fe-68c90a169c54",
   "metadata": {},
   "outputs": [],
   "source": [
    "import numpy as np"
   ]
  },
  {
   "cell_type": "code",
   "execution_count": null,
   "id": "3515c223-5f88-414b-b8e6-028129a31c62",
   "metadata": {},
   "outputs": [],
   "source": [
    "def broadcast(tensor1, tensor2):\n",
    "    shape_1, shape_2 = tensor1.shape, tensor2.shape\n",
    "    \n",
    "def matmul(tensor1, tensor2):\n",
    "\n",
    "    \n",
    "    if tensor1.shape == (1,) or tensor2.shape == (1,):\n",
    "        tensor1, tensor2 = broadcast(tensor1, tensor2)\n",
    "        \n",
    "    return np.matmul(tensor1_broadcast, tensor2_broadcast)\n",
    "\n",
    "def check_compatible(tensor1, tensor2):\n",
    "    shape_1, shape_2 = tensor1.shape, tensor2.shape\n",
    "    "
   ]
  },
  {
   "cell_type": "code",
   "execution_count": 83,
   "id": "08abf616-a0a5-4375-814b-dbb03e9b708c",
   "metadata": {},
   "outputs": [],
   "source": [
    "class Tensor:\n",
    "    def __init__(self, arr, _parent=(), _op=\"\", label=\"\"):\n",
    "        \n",
    "        self.arr = np.array(arr)\n",
    "        self.parents = set(_parent)\n",
    "        self._op = _op\n",
    "        self.label = label\n",
    "        self.grad = np.array([1.0])\n",
    "        self._backward = lambda: None\n",
    "        \n",
    "    def __add__(self, other):\n",
    "        \n",
    "        if not isinstance(other, Tensor):\n",
    "            other = Tensor(other)\n",
    "            \n",
    "        output = Tensor(np.add(self.arr,other.arr), (self, other), \"+\")\n",
    "\n",
    "        def _backward():\n",
    "            self.grad = output.grad * np.array([1.0])\n",
    "            self.other.grad = output.grad * np.array([1.0])\n",
    "\n",
    "        output._backward = _backward\n",
    "        \n",
    "        return output\n",
    "        \n",
    "    def __mul__(self, other):\n",
    "        if \n",
    "\n"
   ]
  },
  {
   "cell_type": "code",
   "execution_count": 84,
   "id": "9465accb-c879-43c8-a168-625651c05554",
   "metadata": {},
   "outputs": [],
   "source": [
    "a = Tensor([10,20], label=\"a\")"
   ]
  },
  {
   "cell_type": "code",
   "execution_count": 85,
   "id": "f1bb59c8-7855-4c91-af8f-436d627f8153",
   "metadata": {},
   "outputs": [],
   "source": [
    "b = Tensor([30,40], label=\"b\")"
   ]
  },
  {
   "cell_type": "code",
   "execution_count": 86,
   "id": "c2914210-d404-4adf-85ec-566d1d744857",
   "metadata": {},
   "outputs": [],
   "source": [
    "c = a+b"
   ]
  },
  {
   "cell_type": "code",
   "execution_count": 87,
   "id": "9ab6a27b-66f8-4dbd-afcc-1ab8c8735d4f",
   "metadata": {},
   "outputs": [
    {
     "data": {
      "text/plain": [
       "(2,)"
      ]
     },
     "execution_count": 87,
     "metadata": {},
     "output_type": "execute_result"
    }
   ],
   "source": [
    "a.arr.shape"
   ]
  },
  {
   "cell_type": "code",
   "execution_count": 88,
   "id": "f9daca64-8050-4953-a587-05e008563343",
   "metadata": {},
   "outputs": [
    {
     "ename": "ValueError",
     "evalue": "matmul: Input operand 1 has a mismatch in its core dimension 0, with gufunc signature (n?,k),(k,m?)->(n?,m?) (size 2 is different from 1)",
     "output_type": "error",
     "traceback": [
      "\u001b[0;31m---------------------------------------------------------------------------\u001b[0m",
      "\u001b[0;31mValueError\u001b[0m                                Traceback (most recent call last)",
      "Cell \u001b[0;32mIn[88], line 1\u001b[0m\n\u001b[0;32m----> 1\u001b[0m c\u001b[38;5;241m.\u001b[39m_backward()\n",
      "Cell \u001b[0;32mIn[83], line 19\u001b[0m, in \u001b[0;36mTensor.__add__.<locals>._backward\u001b[0;34m()\u001b[0m\n\u001b[1;32m     18\u001b[0m \u001b[38;5;28;01mdef\u001b[39;00m \u001b[38;5;21m_backward\u001b[39m():\n\u001b[0;32m---> 19\u001b[0m     \u001b[38;5;28mself\u001b[39m\u001b[38;5;241m.\u001b[39mgrad \u001b[38;5;241m=\u001b[39m np\u001b[38;5;241m.\u001b[39mmatmul(output\u001b[38;5;241m.\u001b[39mgrad, np\u001b[38;5;241m.\u001b[39mtranspose(other\u001b[38;5;241m.\u001b[39marr))\n\u001b[1;32m     20\u001b[0m     \u001b[38;5;28mself\u001b[39m\u001b[38;5;241m.\u001b[39mother\u001b[38;5;241m.\u001b[39mgrad \u001b[38;5;241m=\u001b[39m np\u001b[38;5;241m.\u001b[39mmatmul(output\u001b[38;5;241m.\u001b[39mgrad, np\u001b[38;5;241m.\u001b[39mtranspose(\u001b[38;5;28mself\u001b[39m\u001b[38;5;241m.\u001b[39marr))\n",
      "\u001b[0;31mValueError\u001b[0m: matmul: Input operand 1 has a mismatch in its core dimension 0, with gufunc signature (n?,k),(k,m?)->(n?,m?) (size 2 is different from 1)"
     ]
    }
   ],
   "source": [
    "c._backward()"
   ]
  },
  {
   "cell_type": "code",
   "execution_count": 101,
   "id": "b060ef03-0bc8-4e45-b29d-6b81b373bdfe",
   "metadata": {},
   "outputs": [],
   "source": [
    "grad = np.array([2.0])\n",
    "b = Tensor([[30],[40]], label=\"b\")"
   ]
  },
  {
   "cell_type": "code",
   "execution_count": 102,
   "id": "8b448a8c-b497-4c6b-8c6c-0f131783c3c2",
   "metadata": {},
   "outputs": [
    {
     "data": {
      "text/plain": [
       "array([60., 80.])"
      ]
     },
     "execution_count": 102,
     "metadata": {},
     "output_type": "execute_result"
    }
   ],
   "source": [
    "np.matmul(grad, np.transpose(b.arr))"
   ]
  },
  {
   "cell_type": "code",
   "execution_count": 92,
   "id": "58b26480-cca2-4f7b-a0a9-b72346b3a353",
   "metadata": {},
   "outputs": [
    {
     "data": {
      "text/plain": [
       "array([30, 40])"
      ]
     },
     "execution_count": 92,
     "metadata": {},
     "output_type": "execute_result"
    }
   ],
   "source": [
    "np.transpose(b.arr)"
   ]
  },
  {
   "cell_type": "code",
   "execution_count": 98,
   "id": "2c6ded98-5d02-46eb-9771-1f5428c5453c",
   "metadata": {},
   "outputs": [
    {
     "data": {
      "text/plain": [
       "1"
      ]
     },
     "execution_count": 98,
     "metadata": {},
     "output_type": "execute_result"
    }
   ],
   "source": [
    "grad.shape[0]"
   ]
  },
  {
   "cell_type": "code",
   "execution_count": null,
   "id": "98073ec7-4e04-4989-a179-0bb44c6584c4",
   "metadata": {},
   "outputs": [],
   "source": []
  }
 ],
 "metadata": {
  "kernelspec": {
   "display_name": "Python 3 (ipykernel)",
   "language": "python",
   "name": "python3"
  },
  "language_info": {
   "codemirror_mode": {
    "name": "ipython",
    "version": 3
   },
   "file_extension": ".py",
   "mimetype": "text/x-python",
   "name": "python",
   "nbconvert_exporter": "python",
   "pygments_lexer": "ipython3",
   "version": "3.12.4"
  }
 },
 "nbformat": 4,
 "nbformat_minor": 5
}
